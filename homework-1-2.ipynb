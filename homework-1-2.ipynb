{
 "cells": [
  {
   "cell_type": "code",
   "execution_count": 1,
   "metadata": {},
   "outputs": [],
   "source": [
    "H2O={\n",
    "    \"O\":[0.0000, 0.0000, 0.1173],\n",
    "    \"H1\":[0.0000, 0.7572, -0.4692],\n",
    "    \"H2\":[0.0000, -0.7572, -0.4692]\n",
    "\n",
    "}"
   ]
  },
  {
   "cell_type": "code",
   "execution_count": 2,
   "metadata": {},
   "outputs": [
    {
     "data": {
      "text/plain": [
       "{'O': [0.0, 0.0, 0.1173],\n",
       " 'H1': [0.0, 0.7572, -0.4692],\n",
       " 'H2': [0.0, -0.7572, -0.4692]}"
      ]
     },
     "execution_count": 2,
     "metadata": {},
     "output_type": "execute_result"
    }
   ],
   "source": [
    "H2O"
   ]
  },
  {
   "cell_type": "code",
   "execution_count": 3,
   "metadata": {},
   "outputs": [],
   "source": [
    "H2={\n",
    "    \"H1\":[0.0000, 0.0000, 0.0000],\n",
    "    \"H2\":[0.0000, 0.0000, 0.7414]\n",
    "}\n",
    "benzene={\n",
    "    \"C1\":[0.0000, 1.3970, 0.0000],\n",
    "    \"C2\":[1.2098, 0.6985, 0.0000],\n",
    "    \"C3\":[1.2098, -0.6985, 0.0000],\n",
    "    \"C4\":[0.0000, -1.3970, 0.0000],\n",
    "    \"C5\":[-1.2098, -0.6985, 0.0000],\n",
    "    \"C6\":[-1.2098, 0.6985, 0.0000],\n",
    "    \"H1\":[0.0000, 2.4810, 0.0000],\n",
    "    \"H2\":[2.1486, 1.2405, 0.0000],\n",
    "    \"H3\":[2.1486, -1.2405, 0.0000],\n",
    "    \"H4\":[0.0000, -2.4810, 0.0000],\n",
    "    \"H5\":[-2.1486, -1.2405, 0.0000],\n",
    "    \"H6\":[-2.1486, 1.2405, 0.0000],\n",
    "}"
   ]
  },
  {
   "cell_type": "code",
   "execution_count": 4,
   "metadata": {},
   "outputs": [
    {
     "data": {
      "text/plain": [
       "{'H1': [0.0, 0.0, 0.0], 'H2': [0.0, 0.0, 0.7414]}"
      ]
     },
     "execution_count": 4,
     "metadata": {},
     "output_type": "execute_result"
    }
   ],
   "source": [
    "H2"
   ]
  },
  {
   "cell_type": "code",
   "execution_count": 5,
   "metadata": {},
   "outputs": [
    {
     "data": {
      "text/plain": [
       "{'C1': [0.0, 1.397, 0.0],\n",
       " 'C2': [1.2098, 0.6985, 0.0],\n",
       " 'C3': [1.2098, -0.6985, 0.0],\n",
       " 'C4': [0.0, -1.397, 0.0],\n",
       " 'C5': [-1.2098, -0.6985, 0.0],\n",
       " 'C6': [-1.2098, 0.6985, 0.0],\n",
       " 'H1': [0.0, 2.481, 0.0],\n",
       " 'H2': [2.1486, 1.2405, 0.0],\n",
       " 'H3': [2.1486, -1.2405, 0.0],\n",
       " 'H4': [0.0, -2.481, 0.0],\n",
       " 'H5': [-2.1486, -1.2405, 0.0],\n",
       " 'H6': [-2.1486, 1.2405, 0.0]}"
      ]
     },
     "execution_count": 5,
     "metadata": {},
     "output_type": "execute_result"
    }
   ],
   "source": [
    "benzene"
   ]
  },
  {
   "cell_type": "code",
   "execution_count": 6,
   "metadata": {},
   "outputs": [],
   "source": [
    "def compute_bond_length(atom1:list,atom2:list):\n",
    "    '''\n",
    "    Computes the distance between two atoms\n",
    "    Parameters:\n",
    "    atom1 (list): Coordinates of the first atom\n",
    "    atom2 (list): Coordinates of the second atom\n",
    "    Returns:\n",
    "    float: distance between the two atoms\n",
    "    '''\n",
    "    return ((atom1[0]-atom2[0])**2+(atom1[1]-atom2[1])**2+(atom1[2]-atom2[2])**2)**.5"
   ]
  },
  {
   "cell_type": "code",
   "execution_count": 7,
   "metadata": {},
   "outputs": [
    {
     "name": "stdout",
     "output_type": "stream",
     "text": [
      "0.7414\n"
     ]
    }
   ],
   "source": [
    "L = compute_bond_length(H2['H1'],H2['H2'])\n",
    "print(L)\n"
   ]
  },
  {
   "cell_type": "code",
   "execution_count": 8,
   "metadata": {},
   "outputs": [],
   "source": [
    "import math"
   ]
  },
  {
   "cell_type": "code",
   "execution_count": 9,
   "metadata": {},
   "outputs": [],
   "source": [
    "def compute_bond_angle(a:list,b:list,c:list):\n",
    "    '''\n",
    "    Computes the bond angle between three atoms\n",
    "    Parameters:\n",
    "    a (list): Coordinates of the first outer atom\n",
    "    b (list): Coordinates of the inner atom\n",
    "    c (list): Coordinates of the second outer atom\n",
    "    Returns:\n",
    "    float: Angle (degrees) between the two bonds\n",
    "    '''\n",
    "    d = math.degrees(math.acos(((a[0]-b[0])*(c[0]-b[0])+(a[1]-b[1])*(c[1]-b[1])+(a[2]-b[2])*(c[2]-b[2]))/(compute_bond_length(a,b)*compute_bond_length(b,c))))\n",
    "    return d"
   ]
  },
  {
   "cell_type": "code",
   "execution_count": 10,
   "metadata": {},
   "outputs": [
    {
     "name": "stdout",
     "output_type": "stream",
     "text": [
      "119.99846240774873\n"
     ]
    }
   ],
   "source": [
    "ang = compute_bond_angle(benzene['C6'],benzene['C1'],benzene['C2'])\n",
    "print(ang)"
   ]
  },
  {
   "cell_type": "code",
   "execution_count": 11,
   "metadata": {},
   "outputs": [],
   "source": [
    "def angle_class(n):\n",
    "    '''\n",
    "    Determines if an angle (in degrees), rounded to the closest integer, is acute, right, or obtuse\n",
    "    Parameters:\n",
    "    n (float): angle to be evaluated\n",
    "    Returns:\n",
    "    str: acute, obtuse, or right\n",
    "    '''\n",
    "    m=round(n)\n",
    "    if m>90:\n",
    "        return \"obtuse\"\n",
    "    elif m<90:\n",
    "        return \"acute\"\n",
    "    else:\n",
    "        return \"right\"\n",
    "# Kept separate from compute_bond_angle so that the latter can be reused in later functions"
   ]
  },
  {
   "cell_type": "code",
   "execution_count": 12,
   "metadata": {},
   "outputs": [
    {
     "data": {
      "text/plain": [
       "'right'"
      ]
     },
     "execution_count": 12,
     "metadata": {},
     "output_type": "execute_result"
    }
   ],
   "source": [
    "angle_class(89.5)"
   ]
  },
  {
   "cell_type": "code",
   "execution_count": 26,
   "metadata": {},
   "outputs": [],
   "source": [
    "def calculate_all_bond_lengths(molecule:dict):\n",
    "    '''\n",
    "    Calculates all unique bond lengths within a molecule and returns them as a list\n",
    "    Parameters:\n",
    "    molecule (dict): dictionary of the cartesian coordinates of every atom in a molecule\n",
    "    Returns:\n",
    "    list: all unique bond lengths from smallest to largest\n",
    "    '''\n",
    "    lengths=[]\n",
    "    for a1 in molecule:\n",
    "        for a2 in molecule:\n",
    "            if a1 != a2:\n",
    "                v = (compute_bond_length(molecule[a1],molecule[a2]))\n",
    "                if lengths.count(v)==0:\n",
    "                    lengths.append(v)\n",
    "    lengths.sort()\n",
    "    return lengths\n"
   ]
  },
  {
   "cell_type": "code",
   "execution_count": 29,
   "metadata": {},
   "outputs": [
    {
     "data": {
      "text/plain": [
       "[1.0839999999999999,\n",
       " 1.0840246491662446,\n",
       " 1.3969675336241714,\n",
       " 1.397,\n",
       " 2.1542799934084704,\n",
       " 2.1542920438046465,\n",
       " 2.154313449802512,\n",
       " 2.4196,\n",
       " 2.4196562338481056,\n",
       " 2.4809921825753505,\n",
       " 2.481,\n",
       " 2.7939350672483427,\n",
       " 2.794,\n",
       " 3.401854576550855,\n",
       " 3.401887165971264,\n",
       " 3.4018947970212134,\n",
       " 3.8779597161394035,\n",
       " 3.878,\n",
       " 4.2972,\n",
       " 4.297213540190899,\n",
       " 4.961984365150701,\n",
       " 4.962]"
      ]
     },
     "execution_count": 29,
     "metadata": {},
     "output_type": "execute_result"
    }
   ],
   "source": [
    "calculate_all_bond_lengths(benzene)"
   ]
  },
  {
   "cell_type": "code",
   "execution_count": 32,
   "metadata": {},
   "outputs": [],
   "source": [
    "def calculate_all_bond_angles(molecule:dict):\n",
    "    '''\n",
    "    Calculates all unique bond angles within a molecule and returns them as a list\n",
    "    Parameters:\n",
    "    molecule (dict): dictionary of the cartesian coordinates of every atom in a molecule\n",
    "    Returns:\n",
    "    list: all unique bond angles from smallest to largest\n",
    "    '''\n",
    "    angles=[]\n",
    "    for a1 in molecule:\n",
    "        for a2 in molecule:\n",
    "            if a1 != a2:\n",
    "                for a3 in molecule:\n",
    "                    if a3 != a1 and a3 != a2:\n",
    "                        v = compute_bond_angle(molecule[a1],molecule[a2],molecule[a3])\n",
    "                        if angles.count(v)==0:\n",
    "                            angles.append(v)\n",
    "    angles.sort()\n",
    "    return angles"
   ]
  },
  {
   "cell_type": "code",
   "execution_count": 41,
   "metadata": {},
   "outputs": [
    {
     "data": {
      "text/plain": [
       "[0.0,\n",
       " 0.00023940093164720634,\n",
       " 0.0004251672748305155,\n",
       " 0.0008564145525688189,\n",
       " 0.0010958124050888425,\n",
       " 4.165157317417553,\n",
       " 4.165222117325396,\n",
       " 4.165960315822057,\n",
       " 9.167407315945471,\n",
       " 9.167572335013872,\n",
       " 9.167710794532361,\n",
       " 9.168071868505962,\n",
       " 9.168236887574222,\n",
       " 13.332729652431434,\n",
       " 13.3332939858313,\n",
       " 13.333671110354485,\n",
       " 20.83153702260303,\n",
       " 20.8317631005144,\n",
       " 20.83182389984023,\n",
       " 20.832188267054725,\n",
       " 20.832393437340432,\n",
       " 20.832427664767195,\n",
       " 20.832632835052898,\n",
       " 20.833058001593255,\n",
       " 20.83328407950456,\n",
       " 25.83411331820286,\n",
       " 25.83414391605076,\n",
       " 25.83473845092856,\n",
       " 25.834777882455676,\n",
       " 25.83480848030359,\n",
       " 29.999231215785734,\n",
       " 29.99923121578575,\n",
       " 29.999247817135434,\n",
       " 29.999760602068566,\n",
       " 29.99989576834614,\n",
       " 29.99989576834615,\n",
       " 29.99999998808861,\n",
       " 29.999999999781053,\n",
       " 30.000104231872818,\n",
       " 30.00034362958531,\n",
       " 30.00034362958532,\n",
       " 30.000425154628935,\n",
       " 30.000768796125648,\n",
       " 30.00085641451842,\n",
       " 34.164917919486115,\n",
       " 34.165117885671506,\n",
       " 34.16511788567151,\n",
       " 34.16511788567153,\n",
       " 34.16515731719861,\n",
       " 34.16520813295752,\n",
       " 34.166013731935976,\n",
       " 34.16606454769491,\n",
       " 34.16630394540739,\n",
       " 39.16740730403413,\n",
       " 39.167468103359994,\n",
       " 39.16746810336001,\n",
       " 39.167815026405215,\n",
       " 39.16783247057445,\n",
       " 39.168054424117706,\n",
       " 39.168071868286965,\n",
       " 39.16847959065803,\n",
       " 41.663647799680476,\n",
       " 41.66482110210761,\n",
       " 46.6665623507688,\n",
       " 46.66657158081793,\n",
       " 46.66717131979609,\n",
       " 50.83171966818638,\n",
       " 50.832393437121475,\n",
       " 50.83253189664002,\n",
       " 54.99694178551176,\n",
       " 54.997550754539034,\n",
       " 54.9984922124621,\n",
       " 55.8339696667143,\n",
       " 55.834808468392175,\n",
       " 55.83488211432849,\n",
       " 59.9984624315715,\n",
       " 59.999231203874366,\n",
       " 59.999352049008266,\n",
       " 59.9996563704147,\n",
       " 59.99979153669229,\n",
       " 59.99989576812719,\n",
       " 60.000104231653864,\n",
       " 60.000208463745636,\n",
       " 60.00044786145814,\n",
       " 60.000752182864545,\n",
       " 60.000768784214245,\n",
       " 60.001112425710964,\n",
       " 60.001537592251296,\n",
       " 64.16501365401766,\n",
       " 64.16526154907143,\n",
       " 64.16606454747597,\n",
       " 68.33023577134304,\n",
       " 68.33122186489352,\n",
       " 69.16669931914575,\n",
       " 69.16817610015977,\n",
       " 69.16847957874664,\n",
       " 78.33493620671999,\n",
       " 78.33588689469217,\n",
       " 80.83171966796742,\n",
       " 80.8322892054676,\n",
       " 80.83263612851283,\n",
       " 85.83396965480293,\n",
       " 85.83403968417792,\n",
       " 85.83439482134327,\n",
       " 85.8352257439138,\n",
       " 85.83565091045412,\n",
       " 89.99846241966011,\n",
       " 89.99979153647332,\n",
       " 90.0,\n",
       " 90.00020846352668,\n",
       " 90.0015375803399,\n",
       " 94.16450936620689,\n",
       " 94.1650136537987,\n",
       " 94.16536578094426,\n",
       " 94.16587006853607,\n",
       " 94.16596031582208,\n",
       " 99.16669930723434,\n",
       " 99.1677107945324,\n",
       " 99.16894489628541,\n",
       " 115.83327089996367,\n",
       " 115.83473845092857,\n",
       " 115.83565089854275,\n",
       " 119.99846240774873,\n",
       " 119.99924781713545,\n",
       " 119.99979153625438,\n",
       " 119.9999833867389,\n",
       " 120.00010423187281,\n",
       " 120.00076879612564,\n",
       " 120.00076879612566,\n",
       " 125.0015077875379,\n",
       " 125.00244924546097,\n",
       " 125.00305821448825,\n",
       " 140.8310717169757,\n",
       " 140.83253189664,\n",
       " 140.83304138833216,\n",
       " 145.83327088805228,\n",
       " 145.83488211432848,\n",
       " 145.8355072470542,\n",
       " 149.99847903292124,\n",
       " 150.00075218286455,\n",
       " 150.00076878421427,\n",
       " 171.66807936835585,\n",
       " 171.66962056525708,\n",
       " 179.99847902099972,\n",
       " 179.99890418759492,\n",
       " 180.0]"
      ]
     },
     "execution_count": 41,
     "metadata": {},
     "output_type": "execute_result"
    }
   ],
   "source": [
    "calculate_all_bond_angles(benzene)"
   ]
  },
  {
   "cell_type": "code",
   "execution_count": 45,
   "metadata": {},
   "outputs": [],
   "source": [
    "def round_remove_duplicates(list,n):\n",
    "    '''\n",
    "    Rounds all list values to the nth decimal place, then removes duplicates\n",
    "    Parameters:\n",
    "    list (list): the list to be rounded and duplicates removed\n",
    "    n (int): the decimal place to be rounded to\n",
    "    Returns:\n",
    "    list: values rounded to n decimal places\n",
    "    '''\n",
    "    list2=[]\n",
    "    for x in list:\n",
    "        y = round(x,n)\n",
    "        if list2.count(y)==0:\n",
    "            list2.append(y)\n",
    "    return list2\n",
    "# I got annoyed by the massive lists, so this function rounds all values in the list to a specified decimal place, then removes duplicates."
   ]
  },
  {
   "cell_type": "code",
   "execution_count": 46,
   "metadata": {},
   "outputs": [
    {
     "data": {
      "text/plain": [
       "[1.084, 1.397, 2.154, 2.42, 2.481, 2.794, 3.402, 3.878, 4.297, 4.962]"
      ]
     },
     "execution_count": 46,
     "metadata": {},
     "output_type": "execute_result"
    }
   ],
   "source": [
    "round_remove_duplicates(calculate_all_bond_lengths(benzene),3)"
   ]
  },
  {
   "cell_type": "code",
   "execution_count": null,
   "metadata": {},
   "outputs": [],
   "source": []
  }
 ],
 "metadata": {
  "kernelspec": {
   "display_name": "Python 3",
   "language": "python",
   "name": "python3"
  },
  "language_info": {
   "codemirror_mode": {
    "name": "ipython",
    "version": 3
   },
   "file_extension": ".py",
   "mimetype": "text/x-python",
   "name": "python",
   "nbconvert_exporter": "python",
   "pygments_lexer": "ipython3",
   "version": "3.12.6"
  }
 },
 "nbformat": 4,
 "nbformat_minor": 2
}
