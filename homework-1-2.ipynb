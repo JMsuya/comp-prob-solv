{
 "cells": [
  {
   "cell_type": "code",
   "execution_count": 1,
   "metadata": {},
   "outputs": [],
   "source": [
    "H2O={\n",
    "    \"O\":[0.0000, 0.0000, 0.1173],\n",
    "    \"H1\":[0.0000, 0.7572, -0.4692],\n",
    "    \"H2\":[0.0000, -0.7572, -0.4692]\n",
    "}\n",
    "H2={\n",
    "    \"H1\":[0.0000, 0.0000, 0.0000],\n",
    "    \"H2\":[0.0000, 0.0000, 0.7414]\n",
    "}\n",
    "benzene={\n",
    "    \"C1\":[0.0000, 1.3970, 0.0000],\n",
    "    \"C2\":[1.2098, 0.6985, 0.0000],\n",
    "    \"C3\":[1.2098, -0.6985, 0.0000],\n",
    "    \"C4\":[0.0000, -1.3970, 0.0000],\n",
    "    \"C5\":[-1.2098, -0.6985, 0.0000],\n",
    "    \"C6\":[-1.2098, 0.6985, 0.0000],\n",
    "    \"H1\":[0.0000, 2.4810, 0.0000],\n",
    "    \"H2\":[2.1486, 1.2405, 0.0000],\n",
    "    \"H3\":[2.1486, -1.2405, 0.0000],\n",
    "    \"H4\":[0.0000, -2.4810, 0.0000],\n",
    "    \"H5\":[-2.1486, -1.2405, 0.0000],\n",
    "    \"H6\":[-2.1486, 1.2405, 0.0000],\n",
    "}"
   ]
  },
  {
   "cell_type": "code",
   "execution_count": 2,
   "metadata": {},
   "outputs": [],
   "source": [
    "import math"
   ]
  },
  {
   "cell_type": "code",
   "execution_count": 3,
   "metadata": {},
   "outputs": [],
   "source": [
    "def compute_bond_length(atom1:list,atom2:list):\n",
    "    '''\n",
    "    Computes the distance between two atoms\n",
    "    Parameters:\n",
    "    atom1 (list): Coordinates of the first atom\n",
    "    atom2 (list): Coordinates of the second atom\n",
    "    Returns:\n",
    "    float: distance between the two atoms\n",
    "    '''\n",
    "    return ((atom1[0]-atom2[0])**2+(atom1[1]-atom2[1])**2+(atom1[2]-atom2[2])**2)**.5"
   ]
  },
  {
   "cell_type": "code",
   "execution_count": 4,
   "metadata": {},
   "outputs": [],
   "source": [
    "def compute_bond_angle(a:list,b:list,c:list):\n",
    "    '''\n",
    "    Computes the bond angle between three atoms\n",
    "    Parameters:\n",
    "    a (list): Coordinates of the first outer atom\n",
    "    b (list): Coordinates of the inner atom\n",
    "    c (list): Coordinates of the second outer atom\n",
    "    Returns:\n",
    "    float: Angle (degrees) between the two bonds\n",
    "    '''\n",
    "    d = math.degrees(math.acos(((a[0]-b[0])*(c[0]-b[0])+(a[1]-b[1])*(c[1]-b[1])+(a[2]-b[2])*(c[2]-b[2]))/(compute_bond_length(a,b)*compute_bond_length(b,c))))\n",
    "    return d"
   ]
  },
  {
   "cell_type": "code",
   "execution_count": 5,
   "metadata": {},
   "outputs": [],
   "source": [
    "def angle_class(n):\n",
    "    '''\n",
    "    Determines if an angle (in degrees), rounded to the closest integer, is acute, right, or obtuse\n",
    "    Parameters:\n",
    "    n (float): angle to be evaluated\n",
    "    Returns:\n",
    "    str: acute, obtuse, or right\n",
    "    '''\n",
    "    m=round(n)\n",
    "    if m>90:\n",
    "        return \"obtuse\"\n",
    "    elif m<90:\n",
    "        return \"acute\"\n",
    "    else:\n",
    "        return \"right\"\n",
    "# Kept separate from compute_bond_angle so that the latter can be reused in later functions"
   ]
  },
  {
   "cell_type": "code",
   "execution_count": 6,
   "metadata": {},
   "outputs": [],
   "source": [
    "def calculate_all_bond_lengths(molecule:dict):\n",
    "    '''\n",
    "    Calculates all unique bond lengths within a molecule and returns them as a list\n",
    "    Parameters:\n",
    "    molecule (dict): dictionary of the cartesian coordinates of every atom in a molecule\n",
    "    Returns:\n",
    "    list: all unique bond lengths from smallest to largest\n",
    "    '''\n",
    "    lengths=[]\n",
    "    for a1 in molecule:\n",
    "        for a2 in molecule:\n",
    "            if a1 != a2:\n",
    "                v = (compute_bond_length(molecule[a1],molecule[a2]))\n",
    "                if lengths.count(v)==0:\n",
    "                    lengths.append(v)\n",
    "    lengths.sort()\n",
    "    return lengths\n"
   ]
  },
  {
   "cell_type": "code",
   "execution_count": 7,
   "metadata": {},
   "outputs": [],
   "source": [
    "def calculate_all_bond_angles(molecule:dict):\n",
    "    '''\n",
    "    Calculates all unique bond angles within a molecule and returns them as a list\n",
    "    Parameters:\n",
    "    molecule (dict): dictionary of the cartesian coordinates of every atom in a molecule\n",
    "    Returns:\n",
    "    list: all unique bond angles from smallest to largest\n",
    "    '''\n",
    "    angles=[]\n",
    "    for a1 in molecule:\n",
    "        for a2 in molecule:\n",
    "            if a1 != a2:\n",
    "                for a3 in molecule:\n",
    "                    if a3 != a1 and a3 != a2:\n",
    "                        v = compute_bond_angle(molecule[a1],molecule[a2],molecule[a3])\n",
    "                        if angles.count(v)==0:\n",
    "                            angles.append(v)\n",
    "    angles.sort()\n",
    "    return angles"
   ]
  },
  {
   "cell_type": "code",
   "execution_count": 8,
   "metadata": {},
   "outputs": [],
   "source": [
    "def round_remove_duplicates(list,n):\n",
    "    '''\n",
    "    Rounds all list values to the nth decimal place, then removes duplicates\n",
    "    Parameters:\n",
    "    list (list): the list to be rounded and duplicates removed\n",
    "    n (int): the decimal place to be rounded to\n",
    "    Returns:\n",
    "    list: values rounded to n decimal places\n",
    "    '''\n",
    "    list2=[]\n",
    "    for x in list:\n",
    "        y = round(x,n)\n",
    "        if list2.count(y)==0:\n",
    "            list2.append(y)\n",
    "    return list2\n",
    "# I got annoyed by the massive lists, so this function rounds all values in the list to a specified decimal place, then removes duplicates."
   ]
  },
  {
   "cell_type": "code",
   "execution_count": 11,
   "metadata": {},
   "outputs": [
    {
     "name": "stdout",
     "output_type": "stream",
     "text": [
      "Benzene unique bond lengths:\n",
      "[1.084, 1.397, 2.154, 2.42, 2.481, 2.794, 3.402, 3.878, 4.297, 4.962]\n",
      "Benzene unique bond angles\n",
      "[0.0, 4.2, 9.2, 13.3, 20.8, 25.8, 30.0, 34.2, 39.2, 41.7, 46.7, 50.8, 55.0, 55.8, 60.0, 64.2, 68.3, 69.2, 78.3, 80.8, 85.8, 90.0, 94.2, 99.2, 115.8, 120.0, 125.0, 140.8, 145.8, 150.0, 171.7, 180.0]\n"
     ]
    }
   ],
   "source": [
    "# Doing the functions on benzene:\n",
    "bond_lengths = round_remove_duplicates(calculate_all_bond_lengths(benzene),3)\n",
    "bond_angles = round_remove_duplicates(calculate_all_bond_angles(benzene),1)\n",
    "print(\"Benzene unique bond lengths:\")\n",
    "print(bond_lengths)\n",
    "print(\"Benzene unique bond angles\")\n",
    "print(bond_angles)"
   ]
  },
  {
   "cell_type": "code",
   "execution_count": null,
   "metadata": {},
   "outputs": [],
   "source": []
  }
 ],
 "metadata": {
  "kernelspec": {
   "display_name": "Python 3",
   "language": "python",
   "name": "python3"
  },
  "language_info": {
   "codemirror_mode": {
    "name": "ipython",
    "version": 3
   },
   "file_extension": ".py",
   "mimetype": "text/x-python",
   "name": "python",
   "nbconvert_exporter": "python",
   "pygments_lexer": "ipython3",
   "version": "3.12.6"
  }
 },
 "nbformat": 4,
 "nbformat_minor": 2
}
