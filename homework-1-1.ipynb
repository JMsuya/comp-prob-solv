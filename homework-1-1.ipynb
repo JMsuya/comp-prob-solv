{
 "cells": [
  {
   "cell_type": "code",
   "execution_count": 1,
   "metadata": {},
   "outputs": [],
   "source": [
    "H2O={\n",
    "    \"O\":[0.0000, 0.0000, 0.1173],\n",
    "    \"H1\":[0.0000, 0.7572, -0.4692],\n",
    "    \"H2\":[0.0000, -0.7572, -0.4692]\n",
    "\n",
    "}\n",
    "# Storage of H2O coordinates"
   ]
  },
  {
   "cell_type": "code",
   "execution_count": 2,
   "metadata": {},
   "outputs": [
    {
     "data": {
      "text/plain": [
       "{'O': [0.0, 0.0, 0.1173],\n",
       " 'H1': [0.0, 0.7572, -0.4692],\n",
       " 'H2': [0.0, -0.7572, -0.4692]}"
      ]
     },
     "execution_count": 2,
     "metadata": {},
     "output_type": "execute_result"
    }
   ],
   "source": [
    "H2O"
   ]
  },
  {
   "cell_type": "code",
   "execution_count": 3,
   "metadata": {},
   "outputs": [],
   "source": [
    "H2={\n",
    "    \"H1\":[0.0000, 0.0000, 0.0000],\n",
    "    \"H2\":[0.0000, 0.0000, 0.7414]\n",
    "}\n",
    "# Storage of H2 coordinates as a dictionary\n",
    "benzene={\n",
    "    \"C1\":[0.0000, 1.3970, 0.0000],\n",
    "    \"C2\":[1.2098, 0.6985, 0.0000],\n",
    "    \"C3\":[1.2098, -0.6985, 0.0000],\n",
    "    \"C4\":[0.0000, -1.3970, 0.0000],\n",
    "    \"C5\":[-1.2098, -0.6985, 0.0000],\n",
    "    \"C6\":[-1.2098, 0.6985, 0.0000],\n",
    "    \"H1\":[0.0000, 2.4810, 0.0000],\n",
    "    \"H2\":[2.1486, 1.2405, 0.0000],\n",
    "    \"H3\":[2.1486, -1.2405, 0.0000],\n",
    "    \"H4\":[0.0000, -2.4810, 0.0000],\n",
    "    \"H5\":[-2.1486, -1.2405, 0.0000],\n",
    "    \"H6\":[-2.1486, 1.2405, 0.0000],\n",
    "}\n",
    "# Storage of benzene coordinates as a dictionary"
   ]
  },
  {
   "cell_type": "code",
   "execution_count": 4,
   "metadata": {},
   "outputs": [
    {
     "data": {
      "text/plain": [
       "{'H1': [0.0, 0.0, 0.0], 'H2': [0.0, 0.0, 0.7414]}"
      ]
     },
     "execution_count": 4,
     "metadata": {},
     "output_type": "execute_result"
    }
   ],
   "source": [
    "H2"
   ]
  },
  {
   "cell_type": "code",
   "execution_count": 5,
   "metadata": {},
   "outputs": [
    {
     "data": {
      "text/plain": [
       "{'C1': [0.0, 1.397, 0.0],\n",
       " 'C2': [1.2098, 0.6985, 0.0],\n",
       " 'C3': [1.2098, -0.6985, 0.0],\n",
       " 'C4': [0.0, -1.397, 0.0],\n",
       " 'C5': [-1.2098, -0.6985, 0.0],\n",
       " 'C6': [-1.2098, 0.6985, 0.0],\n",
       " 'H1': [0.0, 2.481, 0.0],\n",
       " 'H2': [2.1486, 1.2405, 0.0],\n",
       " 'H3': [2.1486, -1.2405, 0.0],\n",
       " 'H4': [0.0, -2.481, 0.0],\n",
       " 'H5': [-2.1486, -1.2405, 0.0],\n",
       " 'H6': [-2.1486, 1.2405, 0.0]}"
      ]
     },
     "execution_count": 5,
     "metadata": {},
     "output_type": "execute_result"
    }
   ],
   "source": [
    "benzene"
   ]
  },
  {
   "cell_type": "code",
   "execution_count": 6,
   "metadata": {},
   "outputs": [],
   "source": [
    "def compute_bond_length(atom1:list,atom2:list):\n",
    "    '''\n",
    "    Computes the distance between two atoms\n",
    "    Parameters:\n",
    "    atom1 (list): Coordinates of the first atom\n",
    "    atom2 (list): Coordinates of the second atom\n",
    "    Returns:\n",
    "    float: distance between the two atoms\n",
    "    '''\n",
    "    return ((atom1[0]-atom2[0])**2+(atom1[1]-atom2[1])**2+(atom1[2]-atom2[2])**2)**.5"
   ]
  },
  {
   "cell_type": "code",
   "execution_count": 7,
   "metadata": {},
   "outputs": [
    {
     "name": "stdout",
     "output_type": "stream",
     "text": [
      "0.7414\n"
     ]
    }
   ],
   "source": [
    "L = compute_bond_length(H2['H1'],H2['H2'])\n",
    "print(L)\n"
   ]
  },
  {
   "cell_type": "code",
   "execution_count": 8,
   "metadata": {},
   "outputs": [],
   "source": [
    "import math"
   ]
  },
  {
   "cell_type": "code",
   "execution_count": 9,
   "metadata": {},
   "outputs": [],
   "source": [
    "def compute_bond_angle(a:list,b:list,c:list):\n",
    "    '''\n",
    "    Computes the bond angle between three atoms\n",
    "    Parameters:\n",
    "    a (list): Coordinates of the first outer atom\n",
    "    b (list): Coordinates of the inner atom\n",
    "    c (list): Coordinates of the second outer atom\n",
    "    Returns:\n",
    "    float: Angle (degrees) between the two bonds\n",
    "    '''\n",
    "    d = math.degrees(math.acos(((a[0]-b[0])*(c[0]-b[0])+(a[1]-b[1])*(c[1]-b[1])+(a[2]-b[2])*(c[2]-b[2]))/(compute_bond_length(a,b)*compute_bond_length(b,c))))\n",
    "    return d"
   ]
  },
  {
   "cell_type": "code",
   "execution_count": 10,
   "metadata": {},
   "outputs": [
    {
     "name": "stdout",
     "output_type": "stream",
     "text": [
      "119.99846240774873\n"
     ]
    }
   ],
   "source": [
    "ang = compute_bond_angle(benzene['C6'],benzene['C1'],benzene['C2'])\n",
    "print(ang)"
   ]
  },
  {
   "cell_type": "code",
   "execution_count": 25,
   "metadata": {},
   "outputs": [],
   "source": [
    "def angle_class(n):\n",
    "    '''\n",
    "    Determines if an angle (in degrees), rounded to the closest integer, is acute, right, or obtuse\n",
    "    Parameters:\n",
    "    n (float): angle to be evaluated\n",
    "    Returns:\n",
    "    str: acute, obtuse, or right\n",
    "    '''\n",
    "    m=round(n)\n",
    "    if m>90:\n",
    "        return \"obtuse\"\n",
    "    elif m<90:\n",
    "        return \"acute\"\n",
    "    else:\n",
    "        return \"right\"\n",
    "# Kept separate from compute_bond_angle so that the latter can be reused in later functions"
   ]
  },
  {
   "cell_type": "code",
   "execution_count": 26,
   "metadata": {},
   "outputs": [
    {
     "data": {
      "text/plain": [
       "'right'"
      ]
     },
     "execution_count": 26,
     "metadata": {},
     "output_type": "execute_result"
    }
   ],
   "source": [
    "angle_class(89.5)"
   ]
  },
  {
   "cell_type": "code",
   "execution_count": null,
   "metadata": {},
   "outputs": [],
   "source": []
  }
 ],
 "metadata": {
  "kernelspec": {
   "display_name": "Python 3",
   "language": "python",
   "name": "python3"
  },
  "language_info": {
   "codemirror_mode": {
    "name": "ipython",
    "version": 3
   },
   "file_extension": ".py",
   "mimetype": "text/x-python",
   "name": "python",
   "nbconvert_exporter": "python",
   "pygments_lexer": "ipython3",
   "version": "3.12.6"
  }
 },
 "nbformat": 4,
 "nbformat_minor": 2
}
