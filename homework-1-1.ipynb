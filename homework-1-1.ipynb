{
 "cells": [
  {
   "cell_type": "code",
   "execution_count": 1,
   "metadata": {},
   "outputs": [],
   "source": [
    "H2O={\n",
    "    \"O\":[0.0000, 0.0000, 0.1173],\n",
    "    \"H1\":[0.0000, 0.7572, -0.4692],\n",
    "    \"H2\":[0.0000, -0.7572, -0.4692]\n",
    "\n",
    "}"
   ]
  },
  {
   "cell_type": "code",
   "execution_count": 2,
   "metadata": {},
   "outputs": [
    {
     "data": {
      "text/plain": [
       "{'O': [0.0, 0.0, 0.1173],\n",
       " 'H1': [0.0, 0.7572, -0.4692],\n",
       " 'H2': [0.0, -0.7572, -0.4692]}"
      ]
     },
     "execution_count": 2,
     "metadata": {},
     "output_type": "execute_result"
    }
   ],
   "source": [
    "H2O"
   ]
  },
  {
   "cell_type": "code",
   "execution_count": 6,
   "metadata": {},
   "outputs": [],
   "source": [
    "H2={\n",
    "    \"H1\":[0.0000, 0.0000, 0.0000],\n",
    "    \"H2\":[0.0000, 0.0000, 0.7414]\n",
    "}\n",
    "benzene={\n",
    "    \"C1\":[0.0000, 1.3970, 0.0000],\n",
    "    \"C2\":[1.2098, 0.6985, 0.0000],\n",
    "    \"C3\":[1.2098, -0.6985, 0.0000],\n",
    "    \"C4\":[0.0000, -1.3970, 0.0000],\n",
    "    \"C5\":[-1.2098, -0.6985, 0.0000],\n",
    "    \"C6\":[-1.2098, 0.6985, 0.0000],\n",
    "    \"H1\":[0.0000, 2.4810, 0.0000],\n",
    "    \"H2\":[2.1486, 1.2405, 0.0000],\n",
    "    \"H3\":[2.1486, -1.2405, 0.0000],\n",
    "    \"H4\":[0.0000, -2.4810, 0.0000],\n",
    "    \"H5\":[-2.1486, -1.2405, 0.0000],\n",
    "    \"H6\":[-2.1486, 1.2405, 0.0000],\n",
    "}"
   ]
  },
  {
   "cell_type": "code",
   "execution_count": 7,
   "metadata": {},
   "outputs": [
    {
     "data": {
      "text/plain": [
       "{'H1': [0.0, 0.0, 0.0], 'H2': [0.0, 0.0, 0.7414]}"
      ]
     },
     "execution_count": 7,
     "metadata": {},
     "output_type": "execute_result"
    }
   ],
   "source": [
    "H2"
   ]
  },
  {
   "cell_type": "code",
   "execution_count": 8,
   "metadata": {},
   "outputs": [
    {
     "data": {
      "text/plain": [
       "{'C1': [0.0, 1.397, 0.0],\n",
       " 'C2': [1.2098, 0.6985, 0.0],\n",
       " 'C3': [1.2098, -0.6985, 0.0],\n",
       " 'C4': [0.0, -1.397, 0.0],\n",
       " 'C5': [-1.2098, -0.6985, 0.0],\n",
       " 'C6': [-1.2098, 0.6985, 0.0],\n",
       " 'H1': [0.0, 2.481, 0.0],\n",
       " 'H2': [2.1486, 1.2405, 0.0],\n",
       " 'H3': [2.1486, -1.2405, 0.0],\n",
       " 'H4': [0.0, -2.481, 0.0],\n",
       " 'H5': [-2.1486, -1.2405, 0.0],\n",
       " 'H6': [-2.1486, 1.2405, 0.0]}"
      ]
     },
     "execution_count": 8,
     "metadata": {},
     "output_type": "execute_result"
    }
   ],
   "source": [
    "benzene"
   ]
  },
  {
   "cell_type": "code",
   "execution_count": null,
   "metadata": {},
   "outputs": [],
   "source": []
  }
 ],
 "metadata": {
  "kernelspec": {
   "display_name": "Python 3",
   "language": "python",
   "name": "python3"
  },
  "language_info": {
   "codemirror_mode": {
    "name": "ipython",
    "version": 3
   },
   "file_extension": ".py",
   "mimetype": "text/x-python",
   "name": "python",
   "nbconvert_exporter": "python",
   "pygments_lexer": "ipython3",
   "version": "3.12.5"
  }
 },
 "nbformat": 4,
 "nbformat_minor": 2
}
